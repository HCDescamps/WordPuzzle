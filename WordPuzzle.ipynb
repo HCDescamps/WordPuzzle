{
 "cells": [
  {
   "cell_type": "code",
   "execution_count": 14,
   "id": "7d886e68-e904-4e34-98f0-8e3dd15545b7",
   "metadata": {},
   "outputs": [
    {
     "name": "stdout",
     "output_type": "stream",
     "text": [
      "✅ Done\n"
     ]
    }
   ],
   "source": [
    "import os\n",
    "import random\n",
    "from reportlab.lib.pagesizes import letter as LETTER, landscape\n",
    "from reportlab.pdfgen import canvas\n",
    "from reportlab.lib.units import cm\n",
    "\n",
    "# List of simple French words (colors, numbers, shapes, seasons)\n",
    "words = [\n",
    "    \"rouge\", \"bleu\", \"vert\", \"jaune\",\n",
    "    \"un\", \"deux\", \"trois\", \"quatre\", \"cinq\", \"six\", \"sept\", \"huit\", \"neuf\", \"dix\",\n",
    "    \"été\", \"hiver\",\n",
    "    \"rond\", \"carré\",\n",
    "]\n",
    "\n",
    "# Page and layout settings\n",
    "SQUARE_SIZE = 4 * cm\n",
    "FONT_SIZE = 48\n",
    "PAGE_WIDTH, PAGE_HEIGHT = landscape(LETTER)\n",
    "os.makedirs(\"fiches_collage\", exist_ok=True)\n",
    "\n",
    "def create_worksheet(word):\n",
    "    filename = f\"fiches_collage/{word}.pdf\"\n",
    "    c = canvas.Canvas(filename, pagesize=landscape(LETTER))\n",
    "\n",
    "    # Define y_cut before using it\n",
    "    y_cut = 3 * cm\n",
    "\n",
    "    # French instruction\n",
    "    c.setFont(\"Helvetica\", 16)\n",
    "    c.drawCentredString(PAGE_WIDTH / 2, PAGE_HEIGHT - 2 * cm, \"Découpe les lettres en bas, puis colle-les au bon endroit au centre.\")\n",
    "\n",
    "    # Title with the example word\n",
    "    c.setFont(\"Helvetica-Bold\", 28)\n",
    "    c.drawCentredString(PAGE_WIDTH / 2, PAGE_HEIGHT - 6 * cm, f\"Mot à reconstituer : {word.upper()}\")\n",
    "\n",
    "    # Shuffle letters\n",
    "    letters = list(word.upper())\n",
    "    shuffled_letters = letters[:]\n",
    "    while shuffled_letters == letters:\n",
    "        random.shuffle(shuffled_letters)\n",
    "\n",
    "    # Draw paste squares in the center\n",
    "    y_paste = y_cut + SQUARE_SIZE + 2 * cm\n",
    "    x_paste_start = (PAGE_WIDTH - len(letters) * (SQUARE_SIZE + 0.5 * cm)) / 2\n",
    "    for _ in letters:\n",
    "        c.rect(x_paste_start, y_paste, SQUARE_SIZE, SQUARE_SIZE)\n",
    "        x_paste_start += SQUARE_SIZE + 0.5 * cm\n",
    "\n",
    "    # Dashed line separator between cut and paste area\n",
    "    c.setDash(3, 3)\n",
    "    c.line(1 * cm, y_cut + SQUARE_SIZE + 1 * cm, PAGE_WIDTH - 1 * cm, y_cut + SQUARE_SIZE + 1 * cm)\n",
    "    c.setDash()\n",
    "\n",
    "    # Draw cut-out letters at the bottom\n",
    "    x_cut_start = (PAGE_WIDTH - len(shuffled_letters) * (SQUARE_SIZE + 0.5 * cm)) / 2\n",
    "    c.setFont(\"Helvetica-Bold\", FONT_SIZE)\n",
    "    for char in shuffled_letters:  # use 'char' instead of 'letter'\n",
    "        c.rect(x_cut_start, y_cut, SQUARE_SIZE, SQUARE_SIZE)\n",
    "        c.drawCentredString(x_cut_start + SQUARE_SIZE / 2, y_cut + SQUARE_SIZE / 3, char)\n",
    "        x_cut_start += SQUARE_SIZE + 0.5 * cm\n",
    "\n",
    "    c.showPage()\n",
    "    c.save()\n",
    "\n",
    "# Generate worksheets\n",
    "for word in words:\n",
    "    create_worksheet(word)\n",
    "\n",
    "print(\"✅ Done\")"
   ]
  },
  {
   "cell_type": "code",
   "execution_count": null,
   "id": "5b427980-e7e8-49fc-b7ca-324074a01649",
   "metadata": {},
   "outputs": [],
   "source": []
  }
 ],
 "metadata": {
  "kernelspec": {
   "display_name": "Python 3 (ipykernel)",
   "language": "python",
   "name": "python3"
  },
  "language_info": {
   "codemirror_mode": {
    "name": "ipython",
    "version": 3
   },
   "file_extension": ".py",
   "mimetype": "text/x-python",
   "name": "python",
   "nbconvert_exporter": "python",
   "pygments_lexer": "ipython3",
   "version": "3.9.21"
  }
 },
 "nbformat": 4,
 "nbformat_minor": 5
}
